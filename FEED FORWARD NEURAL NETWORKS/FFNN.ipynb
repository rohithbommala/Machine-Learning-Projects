{
  "cells": [
    {
      "cell_type": "code",
      "execution_count": null,
      "metadata": {
        "id": "Ftd6NIC01cq6"
      },
      "outputs": [],
      "source": [
        "import torch\n",
        "import torch.nn as nn\n",
        "import torch.optim as optim\n",
        "from torch.utils.data import TensorDataset, DataLoader\n",
        "from sklearn.datasets import make_regression\n",
        "from sklearn.model_selection import train_test_split\n",
        "from sklearn.preprocessing import StandardScaler\n",
        "import matplotlib.pyplot as plt\n",
        "\n"
      ]
    },
    {
      "cell_type": "markdown",
      "metadata": {
        "id": "KJjNWGqY1crM"
      },
      "source": [
        "# Tensors\n",
        "Tensors are the PyTorch equivalent to Numpy arrays, with the addition to also have support for GPU acceleration. The name \"tensor\" is a generalization of concepts. For instance, a vector is a 1-D tensor, and a matrix a 2-D tensor. When working with neural networks, tensors of various shapes and number of dimensions are used.\n",
        "\n",
        "Most common functions from numpy can be used on tensors as well. Actually, since numpy arrays are so similar to tensors, tensors could be converted to numpy arrays (and back)."
      ]
    },
    {
      "cell_type": "code",
      "execution_count": null,
      "metadata": {
        "id": "F6AKCSk31crT"
      },
      "outputs": [],
      "source": [
        "# Generate a toy regression dataset\n",
        "X, y = make_regression(n_samples=5000, n_features=20, noise=0.1, random_state=42)\n",
        "\n",
        "# Split the data into training and test sets\n",
        "X_train, X_test, y_train, y_test = train_test_split(X, y, test_size=0.2, random_state=42)\n",
        "\n",
        "# Standardize the features\n",
        "scaler = StandardScaler()\n",
        "X_train = scaler.fit_transform(X_train)\n",
        "X_test = scaler.transform(X_test)\n",
        "\n",
        "# Convert data to PyTorch tensors\n",
        "X_train = torch.from_numpy(X_train).float()\n",
        "y_train = torch.from_numpy(y_train).float().unsqueeze(1)\n",
        "X_test = torch.from_numpy(X_test).float()\n",
        "y_test = torch.from_numpy(y_test).float().unsqueeze(1)\n",
        "\n",
        "\n",
        "\n"
      ]
    },
    {
      "cell_type": "markdown",
      "metadata": {
        "id": "mF-q8QNb1crW"
      },
      "source": [
        "# Dataloader\n",
        "PyTorch offers a solution for parallelizing the data loading process with automatic batching by using DataLoader. Dataloader has been used to parallelize the data loading as this boosts up the speed and saves memory."
      ]
    },
    {
      "cell_type": "code",
      "execution_count": null,
      "metadata": {
        "id": "Qx6JOav81cra"
      },
      "outputs": [],
      "source": [
        "# Create PyTorch datasets and data loaders\n",
        "train_dataset = TensorDataset(X_train, y_train)\n",
        "test_dataset = TensorDataset(X_test, y_test)\n",
        "train_loader = DataLoader(train_dataset, batch_size=128, shuffle=True)\n",
        "test_loader = DataLoader(test_dataset, batch_size=128, shuffle=False)"
      ]
    },
    {
      "cell_type": "code",
      "execution_count": null,
      "metadata": {
        "id": "7oRVBb7V1crc",
        "outputId": "e070b5be-cb8e-4e1c-c72c-4ad9e904524a"
      },
      "outputs": [
        {
          "name": "stdout",
          "output_type": "stream",
          "text": [
            "torch.Size([128, 20])\n",
            "torch.Size([128, 1])\n",
            "torch.Size([128, 20])\n",
            "torch.Size([128, 1])\n",
            "torch.Size([128, 20])\n",
            "torch.Size([128, 1])\n",
            "torch.Size([128, 20])\n",
            "torch.Size([128, 1])\n",
            "torch.Size([128, 20])\n",
            "torch.Size([128, 1])\n",
            "torch.Size([128, 20])\n",
            "torch.Size([128, 1])\n",
            "torch.Size([128, 20])\n",
            "torch.Size([128, 1])\n",
            "torch.Size([128, 20])\n",
            "torch.Size([128, 1])\n",
            "torch.Size([128, 20])\n",
            "torch.Size([128, 1])\n",
            "torch.Size([128, 20])\n",
            "torch.Size([128, 1])\n",
            "torch.Size([128, 20])\n",
            "torch.Size([128, 1])\n",
            "torch.Size([128, 20])\n",
            "torch.Size([128, 1])\n",
            "torch.Size([128, 20])\n",
            "torch.Size([128, 1])\n",
            "torch.Size([128, 20])\n",
            "torch.Size([128, 1])\n",
            "torch.Size([128, 20])\n",
            "torch.Size([128, 1])\n",
            "torch.Size([128, 20])\n",
            "torch.Size([128, 1])\n",
            "torch.Size([128, 20])\n",
            "torch.Size([128, 1])\n",
            "torch.Size([128, 20])\n",
            "torch.Size([128, 1])\n",
            "torch.Size([128, 20])\n",
            "torch.Size([128, 1])\n",
            "torch.Size([128, 20])\n",
            "torch.Size([128, 1])\n",
            "torch.Size([128, 20])\n",
            "torch.Size([128, 1])\n",
            "torch.Size([128, 20])\n",
            "torch.Size([128, 1])\n",
            "torch.Size([128, 20])\n",
            "torch.Size([128, 1])\n",
            "torch.Size([128, 20])\n",
            "torch.Size([128, 1])\n",
            "torch.Size([128, 20])\n",
            "torch.Size([128, 1])\n",
            "torch.Size([128, 20])\n",
            "torch.Size([128, 1])\n",
            "torch.Size([128, 20])\n",
            "torch.Size([128, 1])\n",
            "torch.Size([128, 20])\n",
            "torch.Size([128, 1])\n",
            "torch.Size([128, 20])\n",
            "torch.Size([128, 1])\n",
            "torch.Size([128, 20])\n",
            "torch.Size([128, 1])\n",
            "torch.Size([128, 20])\n",
            "torch.Size([128, 1])\n",
            "torch.Size([32, 20])\n",
            "torch.Size([32, 1])\n"
          ]
        }
      ],
      "source": [
        "for (x,y) in train_loader:\n",
        "    print(x.shape)\n",
        "    print(y.shape)"
      ]
    },
    {
      "cell_type": "code",
      "execution_count": null,
      "metadata": {
        "id": "1X-B_qs51crg"
      },
      "outputs": [],
      "source": [
        "# Define the neural network model\n",
        "class RegressionNet(nn.Module):\n",
        "    def __init__(self, input_size, hidden_size, output_size): # Constructer\n",
        "        super(RegressionNet, self).__init__()\n",
        "        self.fc1 = nn.Linear(input_size, hidden_size) # Fully connected layer\n",
        "        self.relu = nn.ReLU() # ReLU activation function\n",
        "        self.fc2 = nn.Linear(hidden_size, output_size)\n",
        "\n",
        "    def forward(self, x):\n",
        "        out = self.fc1(x)\n",
        "        out = self.relu(out)\n",
        "        out = self.fc2(out)\n",
        "        return out\n",
        "\n"
      ]
    },
    {
      "cell_type": "markdown",
      "metadata": {
        "id": "wr3wnHjV1cri"
      },
      "source": [
        "# Summary of the model"
      ]
    },
    {
      "cell_type": "code",
      "execution_count": null,
      "metadata": {
        "id": "4mdNtLzR1crk",
        "outputId": "7c8c8657-9d40-478d-d8cd-737940f7a117"
      },
      "outputs": [
        {
          "name": "stdout",
          "output_type": "stream",
          "text": [
            "Collecting torchsummary\n",
            "  Downloading torchsummary-1.5.1-py3-none-any.whl (2.8 kB)\n",
            "Installing collected packages: torchsummary\n",
            "Successfully installed torchsummary-1.5.1\n"
          ]
        }
      ],
      "source": [
        "!pip install torchsummary"
      ]
    },
    {
      "cell_type": "code",
      "execution_count": null,
      "metadata": {
        "id": "qNfVTxH11crm",
        "outputId": "ab78967f-76d5-4244-da9b-86d36376f58e"
      },
      "outputs": [
        {
          "name": "stdout",
          "output_type": "stream",
          "text": [
            "----------------------------------------------------------------\n",
            "        Layer (type)               Output Shape         Param #\n",
            "================================================================\n",
            "            Linear-1                   [-1, 32]             672\n",
            "              ReLU-2                   [-1, 32]               0\n",
            "            Linear-3                    [-1, 1]              33\n",
            "================================================================\n",
            "Total params: 705\n",
            "Trainable params: 705\n",
            "Non-trainable params: 0\n",
            "----------------------------------------------------------------\n",
            "Input size (MB): 0.00\n",
            "Forward/backward pass size (MB): 0.00\n",
            "Params size (MB): 0.00\n",
            "Estimated Total Size (MB): 0.00\n",
            "----------------------------------------------------------------\n"
          ]
        }
      ],
      "source": [
        "from torchsummary import summary\n",
        "input_size = X_train.shape[1]\n",
        "hidden_size = 32\n",
        "output_size = 1\n",
        "model = RegressionNet(input_size, hidden_size, output_size)\n",
        "summary(model,(20,))"
      ]
    },
    {
      "cell_type": "code",
      "execution_count": null,
      "metadata": {
        "id": "NLLEdsiG1crn",
        "outputId": "54cdcaf0-f2b5-46c9-e585-99d77c8f12f3"
      },
      "outputs": [
        {
          "data": {
            "text/plain": [
              "RegressionNet(\n",
              "  (fc1): Linear(in_features=20, out_features=2, bias=True)\n",
              "  (relu): ReLU()\n",
              "  (fc2): Linear(in_features=2, out_features=1, bias=True)\n",
              ")"
            ]
          },
          "execution_count": 65,
          "metadata": {},
          "output_type": "execute_result"
        }
      ],
      "source": [
        "model"
      ]
    },
    {
      "cell_type": "code",
      "execution_count": null,
      "metadata": {
        "id": "4nAi5n3a1cro",
        "outputId": "ad970389-3cb4-43e4-cc00-0ecf694bda9f"
      },
      "outputs": [
        {
          "name": "stdout",
          "output_type": "stream",
          "text": [
            "Epoch [20/600], Loss: 2.2938, Test Loss: 3.1120\n",
            "Epoch [40/600], Loss: 0.8770, Test Loss: 1.2934\n",
            "Epoch [60/600], Loss: 0.5166, Test Loss: 0.7872\n",
            "Epoch [80/600], Loss: 0.3601, Test Loss: 0.5831\n",
            "Epoch [100/600], Loss: 0.2694, Test Loss: 0.4419\n",
            "Epoch [120/600], Loss: 0.2068, Test Loss: 0.3620\n",
            "Epoch [140/600], Loss: 0.1689, Test Loss: 0.3208\n",
            "Epoch [160/600], Loss: 0.1451, Test Loss: 0.2758\n",
            "Epoch [180/600], Loss: 0.1267, Test Loss: 0.2421\n",
            "Epoch [200/600], Loss: 0.1097, Test Loss: 0.2100\n",
            "Epoch [220/600], Loss: 0.0950, Test Loss: 0.1950\n",
            "Epoch [240/600], Loss: 0.0853, Test Loss: 0.1765\n",
            "Epoch [260/600], Loss: 0.0771, Test Loss: 0.1651\n",
            "Epoch [280/600], Loss: 0.0718, Test Loss: 0.1532\n",
            "Epoch [300/600], Loss: 0.0647, Test Loss: 0.1433\n",
            "Epoch [320/600], Loss: 0.0607, Test Loss: 0.1294\n",
            "Epoch [340/600], Loss: 0.0561, Test Loss: 0.1216\n",
            "Epoch [360/600], Loss: 0.0532, Test Loss: 0.1150\n",
            "Epoch [380/600], Loss: 0.0493, Test Loss: 0.1089\n",
            "Epoch [400/600], Loss: 0.0470, Test Loss: 0.1011\n",
            "Epoch [420/600], Loss: 0.0458, Test Loss: 0.0992\n",
            "Epoch [440/600], Loss: 0.0430, Test Loss: 0.0954\n",
            "Epoch [460/600], Loss: 0.0402, Test Loss: 0.0898\n",
            "Epoch [480/600], Loss: 0.0386, Test Loss: 0.0858\n",
            "Epoch [500/600], Loss: 0.0372, Test Loss: 0.0830\n",
            "Epoch [520/600], Loss: 0.0356, Test Loss: 0.0795\n",
            "Epoch [540/600], Loss: 0.0342, Test Loss: 0.0776\n",
            "Epoch [560/600], Loss: 0.0330, Test Loss: 0.0754\n",
            "Epoch [580/600], Loss: 0.0321, Test Loss: 0.0737\n",
            "Epoch [600/600], Loss: 0.0309, Test Loss: 0.0721\n"
          ]
        },
        {
          "data": {
            "image/png": "[encoded data removed]",
            "text/plain": [
              "<Figure size 432x288 with 1 Axes>"
            ]
          },
          "metadata": {
            "needs_background": "light"
          },
          "output_type": "display_data"
        }
      ],
      "source": [
        "# Instantiate the model, loss function, and optimizer\n",
        "input_size = X_train.shape[1]\n",
        "hidden_size = 32\n",
        "output_size = 1\n",
        "model = RegressionNet(input_size, hidden_size, output_size)\n",
        "criterion = nn.MSELoss()\n",
        "optimizer = optim.SGD(model.parameters(), lr=0.001)\n",
        "\n",
        "# Train the model\n",
        "num_epochs = 600  # Reduced number of epochs\n",
        "\n",
        "train_loss_history=[]\n",
        "test_loss_history=[]\n",
        "for epoch in range(num_epochs):\n",
        "    running_loss = 0.0\n",
        "    for inputs, labels in train_loader:\n",
        "        # Forward pass\n",
        "        outputs = model(inputs)\n",
        "        loss = criterion(outputs, labels)\n",
        "\n",
        "        # Backward and optimize\n",
        "        optimizer.zero_grad()\n",
        "        loss.backward()\n",
        "        optimizer.step()\n",
        "\n",
        "        running_loss += loss.item()\n",
        "\n",
        "    if (epoch + 1) % 20 == 0:\n",
        "        # Evaluate on the test set\n",
        "        test_loss = 0.0\n",
        "        with torch.no_grad():\n",
        "            for inputs, labels in test_loader:\n",
        "                outputs = model(inputs)\n",
        "                test_loss += criterion(outputs, labels).item()\n",
        "        test_loss /= len(test_loader)\n",
        "        print(f'Epoch [{epoch+1}/{num_epochs}], Loss: {running_loss/len(train_loader):.4f}, Test Loss: {test_loss:.4f}')\n",
        "\n",
        "        train_loss_history.append(running_loss/len(train_loader))\n",
        "        test_loss_history.append(test_loss)\n",
        "\n",
        "# Plot the training loss vs testing loss\n",
        "\n",
        "plt.plot(train_loss_history, label='Train Loss')\n",
        "plt.plot(test_loss_history, label='Test Loss')\n",
        "plt.xlabel('Epochs')\n",
        "plt.ylabel('Loss')\n",
        "plt.legend()\n",
        "plt.show()"
      ]
    },
    {
      "cell_type": "markdown",
      "metadata": {
        "id": "mv56kCdC1crr"
      },
      "source": [
        "# Save the trained model"
      ]
    },
    {
      "cell_type": "code",
      "execution_count": null,
      "metadata": {
        "id": "sXArmav31crt"
      },
      "outputs": [],
      "source": [
        "torch.save(model,'model.pth')"
      ]
    },
    {
      "cell_type": "markdown",
      "metadata": {
        "id": "_Rccmwsx1crv"
      },
      "source": [
        "# Load the trained model and evaluate"
      ]
    },
    {
      "cell_type": "code",
      "execution_count": null,
      "metadata": {
        "id": "wPvz44bG1crw",
        "outputId": "d1e19856-b8a1-4a84-bd14-921943653c3b"
      },
      "outputs": [
        {
          "data": {
            "image/png": "[encoded data removed]",
            "text/plain": [
              "<Figure size 432x288 with 1 Axes>"
            ]
          },
          "metadata": {
            "needs_background": "light"
          },
          "output_type": "display_data"
        }
      ],
      "source": [
        "model=torch.load('model.pth')\n",
        "criterion = nn.MSELoss()\n",
        "optimizer = optim.SGD(model.parameters(), lr=0.001)  # Increased learning rate\n",
        "\n",
        "# Train the model\n",
        "num_epochs = 600  # Reduced number of epochs\n",
        "\n",
        "\n",
        "test_loss_history=[]\n",
        "\n",
        "\n",
        "\n",
        "#test_loss = 0.0\n",
        "with torch.no_grad():\n",
        "    for inputs, labels in test_loader:\n",
        "        outputs = model(inputs)\n",
        "\n",
        "        test_loss_history.append(criterion(outputs, labels).item())\n",
        "\n",
        "        #print('Test Loss: {test_loss:.4f}')\n",
        "\n",
        "\n",
        "\n",
        "\n",
        "\n",
        "\n",
        "\n",
        "plt.plot(test_loss_history, label='Test Loss')\n",
        "plt.xlabel('Epochs')\n",
        "plt.ylabel('Loss')\n",
        "plt.legend()\n",
        "plt.show()\n",
        "\n"
      ]
    },
    {
      "cell_type": "code",
      "execution_count": null,
      "metadata": {
        "id": "-vxOdJjK1cry",
        "outputId": "52ce8ea8-dafe-42f6-f752-9a99ce850152"
      },
      "outputs": [
        {
          "name": "stderr",
          "output_type": "stream",
          "text": [
            "No artists with labels found to put in legend.  Note that artists whose label start with an underscore are ignored when legend() is called with no argument.\n"
          ]
        },
        {
          "data": {
            "image/png": "[encoded data removed]",
            "text/plain": [
              "<Figure size 432x288 with 1 Axes>"
            ]
          },
          "metadata": {
            "needs_background": "light"
          },
          "output_type": "display_data"
        }
      ],
      "source": [
        "prediction=model(X_test)\n",
        "\n",
        "plt.scatter(prediction.detach().cpu(),y_test)\n",
        "plt.xlabel('prediction')\n",
        "plt.ylabel('labels')\n",
        "plt.legend()\n",
        "plt.show()"
      ]
    },
    {
      "cell_type": "markdown",
      "metadata": {
        "id": "UN3lH3a_1crz"
      },
      "source": [
        "# Underfitting"
      ]
    },
    {
      "cell_type": "code",
      "execution_count": null,
      "metadata": {
        "id": "Ott8PKDE1cr0",
        "outputId": "472e53bf-18c9-4f01-e5e4-c31d8c2a9ca4"
      },
      "outputs": [
        {
          "name": "stdout",
          "output_type": "stream",
          "text": [
            "Epoch [20/600], Loss: 0.0102, Test Loss: 0.0111\n",
            "Epoch [40/600], Loss: 0.0103, Test Loss: 0.0108\n",
            "Epoch [60/600], Loss: 0.0101, Test Loss: 0.0110\n",
            "Epoch [80/600], Loss: 0.0103, Test Loss: 0.0110\n",
            "Epoch [100/600], Loss: 0.0103, Test Loss: 0.0117\n",
            "Epoch [120/600], Loss: 0.0103, Test Loss: 0.0122\n",
            "Epoch [140/600], Loss: 0.0103, Test Loss: 0.0112\n",
            "Epoch [160/600], Loss: 0.0102, Test Loss: 0.0112\n",
            "Epoch [180/600], Loss: 0.0102, Test Loss: 0.0111\n",
            "Epoch [200/600], Loss: 0.0104, Test Loss: 0.0112\n",
            "Epoch [220/600], Loss: 0.0103, Test Loss: 0.0116\n",
            "Epoch [240/600], Loss: 0.0102, Test Loss: 0.0107\n",
            "Epoch [260/600], Loss: 0.0102, Test Loss: 0.0110\n",
            "Epoch [280/600], Loss: 0.0101, Test Loss: 0.0118\n",
            "Epoch [300/600], Loss: 0.0103, Test Loss: 0.0111\n",
            "Epoch [320/600], Loss: 0.0102, Test Loss: 0.0113\n",
            "Epoch [340/600], Loss: 0.0102, Test Loss: 0.0114\n",
            "Epoch [360/600], Loss: 0.0103, Test Loss: 0.0109\n",
            "Epoch [380/600], Loss: 0.0103, Test Loss: 0.0114\n",
            "Epoch [400/600], Loss: 0.0103, Test Loss: 0.0111\n",
            "Epoch [420/600], Loss: 0.0104, Test Loss: 0.0109\n",
            "Epoch [440/600], Loss: 0.0104, Test Loss: 0.0118\n",
            "Epoch [460/600], Loss: 0.0101, Test Loss: 0.0108\n",
            "Epoch [480/600], Loss: 0.0102, Test Loss: 0.0107\n",
            "Epoch [500/600], Loss: 0.0102, Test Loss: 0.0116\n",
            "Epoch [520/600], Loss: 0.0103, Test Loss: 0.0114\n",
            "Epoch [540/600], Loss: 0.0101, Test Loss: 0.0109\n",
            "Epoch [560/600], Loss: 0.0103, Test Loss: 0.0111\n",
            "Epoch [580/600], Loss: 0.0102, Test Loss: 0.0111\n",
            "Epoch [600/600], Loss: 0.0102, Test Loss: 0.0109\n"
          ]
        },
        {
          "data": {
            "image/png": "[encoded data removed]",
            "text/plain": [
              "<Figure size 432x288 with 1 Axes>"
            ]
          },
          "metadata": {
            "needs_background": "light"
          },
          "output_type": "display_data"
        }
      ],
      "source": [
        "hidden_size = 2  # Extremely small hidden size to underfit\n",
        "output_size = 1\n",
        "model = RegressionNet(input_size, hidden_size, output_size)\n",
        "criterion = nn.MSELoss()\n",
        "optimizer = optim.SGD(model.parameters(), lr=0.001)\n",
        "\n",
        "# Train the model\n",
        "num_epochs = 600  # Reduced number of epochs\n",
        "\n",
        "train_loss_history=[]\n",
        "test_loss_history=[]\n",
        "for epoch in range(num_epochs):\n",
        "    running_loss = 0.0\n",
        "    for inputs, labels in train_loader:\n",
        "        # Forward pass\n",
        "        outputs = model(inputs)\n",
        "        loss = criterion(outputs, labels)\n",
        "\n",
        "        # Backward and optimize\n",
        "        optimizer.zero_grad()\n",
        "        loss.backward()\n",
        "        optimizer.step()\n",
        "\n",
        "        running_loss += loss.item()\n",
        "\n",
        "    if (epoch + 1) % 20 == 0:\n",
        "        # Evaluate on the test set\n",
        "        test_loss = 0.0\n",
        "        with torch.no_grad():\n",
        "            for inputs, labels in test_loader:\n",
        "                outputs = model(inputs)\n",
        "                test_loss += criterion(outputs, labels).item()\n",
        "        test_loss /= len(test_loader)\n",
        "        print(f'Epoch [{epoch+1}/{num_epochs}], Loss: {running_loss/len(train_loader):.4f}, Test Loss: {test_loss:.4f}')\n",
        "\n",
        "        train_loss_history.append(running_loss/len(train_loader))\n",
        "        test_loss_history.append(test_loss)\n",
        "\n",
        "\n",
        "plt.plot(train_loss_history, label='Train Loss')\n",
        "plt.plot(test_loss_history, label='Test Loss')\n",
        "plt.xlabel('Epochs')\n",
        "plt.ylabel('Loss')\n",
        "plt.legend()\n",
        "plt.show()"
      ]
    },
    {
      "cell_type": "markdown",
      "metadata": {
        "id": "3Qu3lNX11cr2"
      },
      "source": [
        "# Overfitting"
      ]
    },
    {
      "cell_type": "code",
      "execution_count": null,
      "metadata": {
        "id": "CsaQmsqA1cr3",
        "outputId": "49bf1119-65a8-4900-df56-6b599085d831"
      },
      "outputs": [
        {
          "name": "stdout",
          "output_type": "stream",
          "text": [
            "Epoch [20/600], Loss: 1.9189, Test Loss: 2.5658\n",
            "Epoch [40/600], Loss: 1.0565, Test Loss: 1.7473\n",
            "Epoch [60/600], Loss: 0.7486, Test Loss: 1.5544\n",
            "Epoch [80/600], Loss: 0.5804, Test Loss: 1.4748\n",
            "Epoch [100/600], Loss: 0.4555, Test Loss: 1.3673\n",
            "Epoch [120/600], Loss: 0.3815, Test Loss: 1.3224\n",
            "Epoch [140/600], Loss: 0.3203, Test Loss: 1.2828\n",
            "Epoch [160/600], Loss: 0.2824, Test Loss: 1.2523\n",
            "Epoch [180/600], Loss: 0.2491, Test Loss: 1.2350\n",
            "Epoch [200/600], Loss: 0.2178, Test Loss: 1.1998\n",
            "Epoch [220/600], Loss: 0.1939, Test Loss: 1.1879\n",
            "Epoch [240/600], Loss: 0.1765, Test Loss: 1.1516\n",
            "Epoch [260/600], Loss: 0.1598, Test Loss: 1.1588\n",
            "Epoch [280/600], Loss: 0.1462, Test Loss: 1.1464\n",
            "Epoch [300/600], Loss: 0.1355, Test Loss: 1.1304\n",
            "Epoch [320/600], Loss: 0.1234, Test Loss: 1.1224\n",
            "Epoch [340/600], Loss: 0.1173, Test Loss: 1.1160\n",
            "Epoch [360/600], Loss: 0.1096, Test Loss: 1.1051\n",
            "Epoch [380/600], Loss: 0.1008, Test Loss: 1.1001\n",
            "Epoch [400/600], Loss: 0.0944, Test Loss: 1.0959\n",
            "Epoch [420/600], Loss: 0.0882, Test Loss: 1.0816\n",
            "Epoch [440/600], Loss: 0.0837, Test Loss: 1.0834\n",
            "Epoch [460/600], Loss: 0.0791, Test Loss: 1.0736\n",
            "Epoch [480/600], Loss: 0.0744, Test Loss: 1.0667\n",
            "Epoch [500/600], Loss: 0.0708, Test Loss: 1.0576\n",
            "Epoch [520/600], Loss: 0.0676, Test Loss: 1.0591\n",
            "Epoch [540/600], Loss: 0.0637, Test Loss: 1.0506\n",
            "Epoch [560/600], Loss: 0.0609, Test Loss: 1.0553\n",
            "Epoch [580/600], Loss: 0.0573, Test Loss: 1.0386\n",
            "Epoch [600/600], Loss: 0.0558, Test Loss: 1.0438\n"
          ]
        },
        {
          "data": {
            "image/png": "[encoded data removed]",
            "text/plain": [
              "<Figure size 432x288 with 1 Axes>"
            ]
          },
          "metadata": {
            "needs_background": "light"
          },
          "output_type": "display_data"
        }
      ],
      "source": [
        "hidden_size = 600  # Extremely high hidden size to overfit\n",
        "output_size = 1\n",
        "model = RegressionNet(input_size, hidden_size, output_size)\n",
        "criterion = nn.MSELoss()\n",
        "optimizer = optim.SGD(model.parameters(), lr=0.001)\n",
        "\n",
        "# Train the model\n",
        "num_epochs = 600  # Reduced number of epochs\n",
        "\n",
        "train_loss_history=[]\n",
        "test_loss_history=[]\n",
        "for epoch in range(num_epochs):\n",
        "    running_loss = 0.0\n",
        "    for inputs, labels in train_loader:\n",
        "        # Forward pass\n",
        "        outputs = model(inputs)\n",
        "        loss = criterion(outputs, labels)\n",
        "\n",
        "        # Backward and optimize\n",
        "        optimizer.zero_grad()\n",
        "        loss.backward()\n",
        "        optimizer.step()\n",
        "\n",
        "        running_loss += loss.item()\n",
        "\n",
        "    if (epoch + 1) % 20 == 0:\n",
        "        # Evaluate on the test set\n",
        "        test_loss = 0.0\n",
        "        with torch.no_grad():\n",
        "            for inputs, labels in test_loader:\n",
        "                outputs = model(inputs)\n",
        "                test_loss += criterion(outputs, labels).item()\n",
        "        test_loss /= len(test_loader)\n",
        "        print(f'Epoch [{epoch+1}/{num_epochs}], Loss: {running_loss/len(train_loader):.4f}, Test Loss: {test_loss:.4f}')\n",
        "\n",
        "        train_loss_history.append(running_loss/len(train_loader))\n",
        "        test_loss_history.append(test_loss)\n",
        "\n",
        "\n",
        "plt.plot(train_loss_history, label='Train Loss')\n",
        "plt.plot(test_loss_history, label='Test Loss')\n",
        "plt.xlabel('Epochs')\n",
        "plt.ylabel('Loss')\n",
        "plt.legend()\n",
        "plt.show()"
      ]
    },
    {
      "cell_type": "markdown",
      "metadata": {
        "id": "N9lN1lrX1cr4"
      },
      "source": [
        "# Layer-wise parameters shape"
      ]
    },
    {
      "cell_type": "code",
      "execution_count": null,
      "metadata": {
        "id": "dWQUJC5A1cr5",
        "outputId": "36552b01-2677-4592-eb98-633ff8dbcf6a"
      },
      "outputs": [
        {
          "name": "stdout",
          "output_type": "stream",
          "text": [
            "torch.Size([32, 20])\n",
            "torch.Size([32])\n",
            "torch.Size([1, 32])\n",
            "torch.Size([1])\n"
          ]
        }
      ],
      "source": [
        "for parameter in model.parameters():\n",
        "    print(parameter.shape)"
      ]
    },
    {
      "cell_type": "markdown",
      "metadata": {
        "id": "P-1Bp_KX1cr6"
      },
      "source": [
        "# Number of parameters and flops"
      ]
    },
    {
      "cell_type": "code",
      "execution_count": null,
      "metadata": {
        "id": "QUdxTdfp1cr7",
        "outputId": "675a3847-0201-45a5-cbfb-dd37fddff776"
      },
      "outputs": [
        {
          "name": "stdout",
          "output_type": "stream",
          "text": [
            "+---------------+---------------+------------+-------------+------------------------------+----------+------------------+-------------------------------------------------+---------+-----------------+-----------------------------------------------+\n",
            "| module_name   | module_type   | in_shape   | out_shape   | kernel_size,padding,stride   |   params | params_percent   | params_percent_vis                              |   flops | flops_percent   | flops_percent_vis                             |\n",
            "+===============+===============+============+=============+==============================+==========+==================+=================================================+=========+=================+===============================================+\n",
            "| fc1           | Linear        | (20)       | (32)        |                              |      672 | 95.3191%         | ############################################### |     640 | 90.9091%        | ############################################# |\n",
            "+---------------+---------------+------------+-------------+------------------------------+----------+------------------+-------------------------------------------------+---------+-----------------+-----------------------------------------------+\n",
            "| relu          | ReLU          | (32)       | (32)        |                              |        0 | 0.0%             |                                                 |      32 | 4.54545%        | ##                                            |\n",
            "+---------------+---------------+------------+-------------+------------------------------+----------+------------------+-------------------------------------------------+---------+-----------------+-----------------------------------------------+\n",
            "| fc2           | Linear        | (32)       | (1)         |                              |       33 | 4.68085%         | ##                                              |      32 | 4.54545%        | ##                                            |\n",
            "+---------------+---------------+------------+-------------+------------------------------+----------+------------------+-------------------------------------------------+---------+-----------------+-----------------------------------------------+\n",
            "\n",
            "\n",
            "704.0 705.0\n"
          ]
        }
      ],
      "source": [
        "from flopth import flopth\n",
        "flops, params = flopth(model, in_size=(20,),show_detail=True)\n",
        "print(flops, params)"
      ]
    }
  ],
  "metadata": {
    "kernelspec": {
      "display_name": "Python 3 (ipykernel)",
      "language": "python",
      "name": "python3"
    },
    "language_info": {
      "codemirror_mode": {
        "name": "ipython",
        "version": 3
      },
      "file_extension": ".py",
      "mimetype": "text/x-python",
      "name": "python",
      "nbconvert_exporter": "python",
      "pygments_lexer": "ipython3",
      "version": "3.9.6"
    },
    "colab": {
      "provenance": []
    }
  },
  "nbformat": 4,
  "nbformat_minor": 0
}